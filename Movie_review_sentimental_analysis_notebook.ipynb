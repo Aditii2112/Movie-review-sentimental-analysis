{
 "cells": [
  {
   "cell_type": "code",
   "execution_count": 1,
   "id": "1b2b6683",
   "metadata": {
    "_cell_guid": "b1076dfc-b9ad-4769-8c92-a6c4dae69d19",
    "_uuid": "8f2839f25d086af736a60e9eeb907d3b93b6e0e5",
    "execution": {
     "iopub.execute_input": "2023-08-30T12:27:12.302401Z",
     "iopub.status.busy": "2023-08-30T12:27:12.301855Z",
     "iopub.status.idle": "2023-08-30T12:27:12.320212Z",
     "shell.execute_reply": "2023-08-30T12:27:12.318967Z"
    },
    "papermill": {
     "duration": 0.036667,
     "end_time": "2023-08-30T12:27:12.322670",
     "exception": false,
     "start_time": "2023-08-30T12:27:12.286003",
     "status": "completed"
    },
    "tags": []
   },
   "outputs": [
    {
     "name": "stdout",
     "output_type": "stream",
     "text": [
      "/kaggle/input/sentiment-prediction-on-movie-reviews/movies.csv\n",
      "/kaggle/input/sentiment-prediction-on-movie-reviews/sample.csv\n",
      "/kaggle/input/sentiment-prediction-on-movie-reviews/train.csv\n",
      "/kaggle/input/sentiment-prediction-on-movie-reviews/test.csv\n"
     ]
    }
   ],
   "source": [
    "# This Python 3 environment comes with many helpful analytics libraries installed\n",
    "# It is defined by the kaggle/python Docker image: https://github.com/kaggle/docker-python\n",
    "# For example, here's several helpful packages to load\n",
    "\n",
    "import numpy as np # linear algebra\n",
    "import pandas as pd # data processing, CSV file I/O (e.g. pd.read_csv)\n",
    "import matplotlib.pyplot as pl\n",
    "\n",
    "# Input data files are available in the read-only \"../input/\" directory\n",
    "# For example, running this (by clicking run or pressing Shift+Enter) will list all files under the input directory\n",
    "\n",
    "import os\n",
    "for dirname, _, filenames in os.walk('/kaggle/input'):\n",
    "    for filename in filenames:\n",
    "        print(os.path.join(dirname, filename))\n",
    "\n",
    "# You can write up to 20GB to the current directory (/kaggle/working/) that gets preserved as output when you create a version using \"Save & Run All\" \n",
    "# You can also write temporary files to /kaggle/temp/, but they won't be saved outside of the current session"
   ]
  },
  {
   "cell_type": "markdown",
   "id": "b309617b",
   "metadata": {
    "papermill": {
     "duration": 0.011148,
     "end_time": "2023-08-30T12:27:12.345587",
     "exception": false,
     "start_time": "2023-08-30T12:27:12.334439",
     "status": "completed"
    },
    "tags": []
   },
   "source": [
    "> **MILESTONE 1:DATA LOADING**"
   ]
  },
  {
   "cell_type": "code",
   "execution_count": 2,
   "id": "70396c16",
   "metadata": {
    "execution": {
     "iopub.execute_input": "2023-08-30T12:27:12.371222Z",
     "iopub.status.busy": "2023-08-30T12:27:12.370493Z",
     "iopub.status.idle": "2023-08-30T12:27:15.058888Z",
     "shell.execute_reply": "2023-08-30T12:27:15.057703Z"
    },
    "papermill": {
     "duration": 2.704838,
     "end_time": "2023-08-30T12:27:15.062166",
     "exception": false,
     "start_time": "2023-08-30T12:27:12.357328",
     "status": "completed"
    },
    "tags": []
   },
   "outputs": [],
   "source": [
    "#reading all the files using pandas\n",
    "training = pd.read_csv(\"/kaggle/input/sentiment-prediction-on-movie-reviews/train.csv\")\n",
    "testing = pd.read_csv(\"/kaggle/input/sentiment-prediction-on-movie-reviews/test.csv\")\n",
    "sample= pd.read_csv(\"/kaggle/input/sentiment-prediction-on-movie-reviews/sample.csv\")\n",
    "main = pd.read_csv(\"/kaggle/input/sentiment-prediction-on-movie-reviews/movies.csv\")"
   ]
  },
  {
   "cell_type": "code",
   "execution_count": 3,
   "id": "7797a43d",
   "metadata": {
    "execution": {
     "iopub.execute_input": "2023-08-30T12:27:15.087156Z",
     "iopub.status.busy": "2023-08-30T12:27:15.086711Z",
     "iopub.status.idle": "2023-08-30T12:27:15.119551Z",
     "shell.execute_reply": "2023-08-30T12:27:15.118505Z"
    },
    "papermill": {
     "duration": 0.048504,
     "end_time": "2023-08-30T12:27:15.122359",
     "exception": false,
     "start_time": "2023-08-30T12:27:15.073855",
     "status": "completed"
    },
    "tags": []
   },
   "outputs": [
    {
     "data": {
      "text/html": [
       "<div>\n",
       "<style scoped>\n",
       "    .dataframe tbody tr th:only-of-type {\n",
       "        vertical-align: middle;\n",
       "    }\n",
       "\n",
       "    .dataframe tbody tr th {\n",
       "        vertical-align: top;\n",
       "    }\n",
       "\n",
       "    .dataframe thead th {\n",
       "        text-align: right;\n",
       "    }\n",
       "</style>\n",
       "<table border=\"1\" class=\"dataframe\">\n",
       "  <thead>\n",
       "    <tr style=\"text-align: right;\">\n",
       "      <th></th>\n",
       "      <th>movieid</th>\n",
       "      <th>reviewerName</th>\n",
       "      <th>isFrequentReviewer</th>\n",
       "      <th>reviewText</th>\n",
       "      <th>sentiment</th>\n",
       "    </tr>\n",
       "  </thead>\n",
       "  <tbody>\n",
       "    <tr>\n",
       "      <th>0</th>\n",
       "      <td>marvelous_pirate</td>\n",
       "      <td>Benjamin Henry</td>\n",
       "      <td>False</td>\n",
       "      <td>Henry Selick’s first movie since 2009’s Corali...</td>\n",
       "      <td>POSITIVE</td>\n",
       "    </tr>\n",
       "    <tr>\n",
       "      <th>1</th>\n",
       "      <td>tony_montana_frodo_baggins_v_rocky_balboa</td>\n",
       "      <td>Felicia Lopez</td>\n",
       "      <td>False</td>\n",
       "      <td>With a cast that reads like the Vogue Oscar pa...</td>\n",
       "      <td>NEGATIVE</td>\n",
       "    </tr>\n",
       "    <tr>\n",
       "      <th>2</th>\n",
       "      <td>darth_vader_katniss_everdeen_sorcerer_donnie_d...</td>\n",
       "      <td>Mr. Charles Burgess</td>\n",
       "      <td>True</td>\n",
       "      <td>Creed II does not give us anything but another...</td>\n",
       "      <td>POSITIVE</td>\n",
       "    </tr>\n",
       "    <tr>\n",
       "      <th>3</th>\n",
       "      <td>lara_croft_glimmer</td>\n",
       "      <td>Ryan Barrett</td>\n",
       "      <td>False</td>\n",
       "      <td>I know what you're thinking, but this is no Li...</td>\n",
       "      <td>POSITIVE</td>\n",
       "    </tr>\n",
       "    <tr>\n",
       "      <th>4</th>\n",
       "      <td>jason_bourne_surreal_the_terminator_indiana_jones</td>\n",
       "      <td>Alexander Glover</td>\n",
       "      <td>False</td>\n",
       "      <td>Director Fernando Meirelles tells the story wi...</td>\n",
       "      <td>POSITIVE</td>\n",
       "    </tr>\n",
       "  </tbody>\n",
       "</table>\n",
       "</div>"
      ],
      "text/plain": [
       "                                             movieid         reviewerName  \\\n",
       "0                                   marvelous_pirate       Benjamin Henry   \n",
       "1          tony_montana_frodo_baggins_v_rocky_balboa        Felicia Lopez   \n",
       "2  darth_vader_katniss_everdeen_sorcerer_donnie_d...  Mr. Charles Burgess   \n",
       "3                                 lara_croft_glimmer         Ryan Barrett   \n",
       "4  jason_bourne_surreal_the_terminator_indiana_jones     Alexander Glover   \n",
       "\n",
       "   isFrequentReviewer                                         reviewText  \\\n",
       "0               False  Henry Selick’s first movie since 2009’s Corali...   \n",
       "1               False  With a cast that reads like the Vogue Oscar pa...   \n",
       "2                True  Creed II does not give us anything but another...   \n",
       "3               False  I know what you're thinking, but this is no Li...   \n",
       "4               False  Director Fernando Meirelles tells the story wi...   \n",
       "\n",
       "  sentiment  \n",
       "0  POSITIVE  \n",
       "1  NEGATIVE  \n",
       "2  POSITIVE  \n",
       "3  POSITIVE  \n",
       "4  POSITIVE  "
      ]
     },
     "execution_count": 3,
     "metadata": {},
     "output_type": "execute_result"
    }
   ],
   "source": [
    "#visualisation of data \n",
    "training.head()\n"
   ]
  },
  {
   "cell_type": "code",
   "execution_count": 4,
   "id": "78871f61",
   "metadata": {
    "execution": {
     "iopub.execute_input": "2023-08-30T12:27:15.148485Z",
     "iopub.status.busy": "2023-08-30T12:27:15.148048Z",
     "iopub.status.idle": "2023-08-30T12:27:15.160733Z",
     "shell.execute_reply": "2023-08-30T12:27:15.159712Z"
    },
    "papermill": {
     "duration": 0.028814,
     "end_time": "2023-08-30T12:27:15.163259",
     "exception": false,
     "start_time": "2023-08-30T12:27:15.134445",
     "status": "completed"
    },
    "tags": []
   },
   "outputs": [
    {
     "data": {
      "text/html": [
       "<div>\n",
       "<style scoped>\n",
       "    .dataframe tbody tr th:only-of-type {\n",
       "        vertical-align: middle;\n",
       "    }\n",
       "\n",
       "    .dataframe tbody tr th {\n",
       "        vertical-align: top;\n",
       "    }\n",
       "\n",
       "    .dataframe thead th {\n",
       "        text-align: right;\n",
       "    }\n",
       "</style>\n",
       "<table border=\"1\" class=\"dataframe\">\n",
       "  <thead>\n",
       "    <tr style=\"text-align: right;\">\n",
       "      <th></th>\n",
       "      <th>movieid</th>\n",
       "      <th>reviewerName</th>\n",
       "      <th>isTopCritic</th>\n",
       "      <th>reviewText</th>\n",
       "    </tr>\n",
       "  </thead>\n",
       "  <tbody>\n",
       "    <tr>\n",
       "      <th>0</th>\n",
       "      <td>legend_marty_mcfly_oracle</td>\n",
       "      <td>John Kim</td>\n",
       "      <td>False</td>\n",
       "      <td>Green slowly cranks up the dread with style an...</td>\n",
       "    </tr>\n",
       "    <tr>\n",
       "      <th>1</th>\n",
       "      <td>terminator_katniss_everdeen_glimmer</td>\n",
       "      <td>Brian Chaney</td>\n",
       "      <td>False</td>\n",
       "      <td>Philip Noyce's direction is elegant and unforc...</td>\n",
       "    </tr>\n",
       "    <tr>\n",
       "      <th>2</th>\n",
       "      <td>james_bond_labyrinth_gollum</td>\n",
       "      <td>Danielle Parker</td>\n",
       "      <td>False</td>\n",
       "      <td>It wouldn't do to say what path Maria ultimate...</td>\n",
       "    </tr>\n",
       "    <tr>\n",
       "      <th>3</th>\n",
       "      <td>v_quest_han_solo_wondrous</td>\n",
       "      <td>Brittany Lane</td>\n",
       "      <td>False</td>\n",
       "      <td>Pig is not exactly the arthouse John Wick that...</td>\n",
       "    </tr>\n",
       "    <tr>\n",
       "      <th>4</th>\n",
       "      <td>enigma_hulk_surreal_starlight</td>\n",
       "      <td>Justin Willis</td>\n",
       "      <td>False</td>\n",
       "      <td>An imaginative no-budget musical of sorts abou...</td>\n",
       "    </tr>\n",
       "  </tbody>\n",
       "</table>\n",
       "</div>"
      ],
      "text/plain": [
       "                               movieid     reviewerName  isTopCritic  \\\n",
       "0            legend_marty_mcfly_oracle         John Kim        False   \n",
       "1  terminator_katniss_everdeen_glimmer     Brian Chaney        False   \n",
       "2          james_bond_labyrinth_gollum  Danielle Parker        False   \n",
       "3            v_quest_han_solo_wondrous    Brittany Lane        False   \n",
       "4        enigma_hulk_surreal_starlight    Justin Willis        False   \n",
       "\n",
       "                                          reviewText  \n",
       "0  Green slowly cranks up the dread with style an...  \n",
       "1  Philip Noyce's direction is elegant and unforc...  \n",
       "2  It wouldn't do to say what path Maria ultimate...  \n",
       "3  Pig is not exactly the arthouse John Wick that...  \n",
       "4  An imaginative no-budget musical of sorts abou...  "
      ]
     },
     "execution_count": 4,
     "metadata": {},
     "output_type": "execute_result"
    }
   ],
   "source": [
    "testing.head()"
   ]
  },
  {
   "cell_type": "code",
   "execution_count": 5,
   "id": "9ced8f9d",
   "metadata": {
    "execution": {
     "iopub.execute_input": "2023-08-30T12:27:15.189837Z",
     "iopub.status.busy": "2023-08-30T12:27:15.189442Z",
     "iopub.status.idle": "2023-08-30T12:27:15.211276Z",
     "shell.execute_reply": "2023-08-30T12:27:15.210080Z"
    },
    "papermill": {
     "duration": 0.038399,
     "end_time": "2023-08-30T12:27:15.213767",
     "exception": false,
     "start_time": "2023-08-30T12:27:15.175368",
     "status": "completed"
    },
    "tags": []
   },
   "outputs": [
    {
     "data": {
      "text/html": [
       "<div>\n",
       "<style scoped>\n",
       "    .dataframe tbody tr th:only-of-type {\n",
       "        vertical-align: middle;\n",
       "    }\n",
       "\n",
       "    .dataframe tbody tr th {\n",
       "        vertical-align: top;\n",
       "    }\n",
       "\n",
       "    .dataframe thead th {\n",
       "        text-align: right;\n",
       "    }\n",
       "</style>\n",
       "<table border=\"1\" class=\"dataframe\">\n",
       "  <thead>\n",
       "    <tr style=\"text-align: right;\">\n",
       "      <th></th>\n",
       "      <th>movieid</th>\n",
       "      <th>title</th>\n",
       "      <th>audienceScore</th>\n",
       "      <th>rating</th>\n",
       "      <th>ratingContents</th>\n",
       "      <th>releaseDateTheaters</th>\n",
       "      <th>releaseDateStreaming</th>\n",
       "      <th>runtimeMinutes</th>\n",
       "      <th>genre</th>\n",
       "      <th>originalLanguage</th>\n",
       "      <th>director</th>\n",
       "      <th>boxOffice</th>\n",
       "      <th>distributor</th>\n",
       "      <th>soundType</th>\n",
       "    </tr>\n",
       "  </thead>\n",
       "  <tbody>\n",
       "    <tr>\n",
       "      <th>0</th>\n",
       "      <td>han_solo_heroic_myth_wonder_woman</td>\n",
       "      <td>Han Solo Heroic Myth Wonder Woman</td>\n",
       "      <td>50.0</td>\n",
       "      <td>NaN</td>\n",
       "      <td>NaN</td>\n",
       "      <td>NaN</td>\n",
       "      <td>2018-08-25</td>\n",
       "      <td>75.0</td>\n",
       "      <td>Comedy, Horror, Sci-fi</td>\n",
       "      <td>English</td>\n",
       "      <td>Claude Nicolet</td>\n",
       "      <td>NaN</td>\n",
       "      <td>NaN</td>\n",
       "      <td>NaN</td>\n",
       "    </tr>\n",
       "    <tr>\n",
       "      <th>1</th>\n",
       "      <td>voyage_tyler_durden_han_solo_stardust</td>\n",
       "      <td>Voyage Tyler Durden Han Solo Stardust</td>\n",
       "      <td>NaN</td>\n",
       "      <td>NaN</td>\n",
       "      <td>NaN</td>\n",
       "      <td>NaN</td>\n",
       "      <td>2020-02-11</td>\n",
       "      <td>114.0</td>\n",
       "      <td>Drama</td>\n",
       "      <td>English</td>\n",
       "      <td>Nathan Haack</td>\n",
       "      <td>NaN</td>\n",
       "      <td>NaN</td>\n",
       "      <td>NaN</td>\n",
       "    </tr>\n",
       "    <tr>\n",
       "      <th>2</th>\n",
       "      <td>norman_bates_ferris_bueller_hermione_granger_v...</td>\n",
       "      <td>Norman Bates Ferris Bueller Hermione Granger V...</td>\n",
       "      <td>43.0</td>\n",
       "      <td>NaN</td>\n",
       "      <td>NaN</td>\n",
       "      <td>NaN</td>\n",
       "      <td>NaN</td>\n",
       "      <td>120.0</td>\n",
       "      <td>Drama</td>\n",
       "      <td>Korean</td>\n",
       "      <td>Theresa Smith</td>\n",
       "      <td>NaN</td>\n",
       "      <td>NaN</td>\n",
       "      <td>NaN</td>\n",
       "    </tr>\n",
       "    <tr>\n",
       "      <th>3</th>\n",
       "      <td>elegant_hermione_granger</td>\n",
       "      <td>Elegant Hermione Granger</td>\n",
       "      <td>60.0</td>\n",
       "      <td>NaN</td>\n",
       "      <td>NaN</td>\n",
       "      <td>NaN</td>\n",
       "      <td>2020-10-23</td>\n",
       "      <td>90.0</td>\n",
       "      <td>Action, Mystery &amp; thriller</td>\n",
       "      <td>English</td>\n",
       "      <td>Donald Lewis</td>\n",
       "      <td>NaN</td>\n",
       "      <td>NaN</td>\n",
       "      <td>NaN</td>\n",
       "    </tr>\n",
       "    <tr>\n",
       "      <th>4</th>\n",
       "      <td>adventure_rocky_balboa</td>\n",
       "      <td>Adventure Rocky Balboa</td>\n",
       "      <td>70.0</td>\n",
       "      <td>NaN</td>\n",
       "      <td>NaN</td>\n",
       "      <td>NaN</td>\n",
       "      <td>2017-03-27</td>\n",
       "      <td>80.0</td>\n",
       "      <td>Fantasy, Adventure, Animation</td>\n",
       "      <td>English</td>\n",
       "      <td>Howard Simms</td>\n",
       "      <td>NaN</td>\n",
       "      <td>NaN</td>\n",
       "      <td>NaN</td>\n",
       "    </tr>\n",
       "  </tbody>\n",
       "</table>\n",
       "</div>"
      ],
      "text/plain": [
       "                                             movieid  \\\n",
       "0                  han_solo_heroic_myth_wonder_woman   \n",
       "1              voyage_tyler_durden_han_solo_stardust   \n",
       "2  norman_bates_ferris_bueller_hermione_granger_v...   \n",
       "3                           elegant_hermione_granger   \n",
       "4                             adventure_rocky_balboa   \n",
       "\n",
       "                                               title  audienceScore rating  \\\n",
       "0                  Han Solo Heroic Myth Wonder Woman           50.0    NaN   \n",
       "1              Voyage Tyler Durden Han Solo Stardust            NaN    NaN   \n",
       "2  Norman Bates Ferris Bueller Hermione Granger V...           43.0    NaN   \n",
       "3                           Elegant Hermione Granger           60.0    NaN   \n",
       "4                             Adventure Rocky Balboa           70.0    NaN   \n",
       "\n",
       "  ratingContents releaseDateTheaters releaseDateStreaming  runtimeMinutes  \\\n",
       "0            NaN                 NaN           2018-08-25            75.0   \n",
       "1            NaN                 NaN           2020-02-11           114.0   \n",
       "2            NaN                 NaN                  NaN           120.0   \n",
       "3            NaN                 NaN           2020-10-23            90.0   \n",
       "4            NaN                 NaN           2017-03-27            80.0   \n",
       "\n",
       "                           genre originalLanguage        director boxOffice  \\\n",
       "0         Comedy, Horror, Sci-fi          English  Claude Nicolet       NaN   \n",
       "1                          Drama          English    Nathan Haack       NaN   \n",
       "2                          Drama           Korean   Theresa Smith       NaN   \n",
       "3     Action, Mystery & thriller          English    Donald Lewis       NaN   \n",
       "4  Fantasy, Adventure, Animation          English    Howard Simms       NaN   \n",
       "\n",
       "  distributor soundType  \n",
       "0         NaN       NaN  \n",
       "1         NaN       NaN  \n",
       "2         NaN       NaN  \n",
       "3         NaN       NaN  \n",
       "4         NaN       NaN  "
      ]
     },
     "execution_count": 5,
     "metadata": {},
     "output_type": "execute_result"
    }
   ],
   "source": [
    "main.head()"
   ]
  },
  {
   "cell_type": "code",
   "execution_count": 6,
   "id": "532bd8c3",
   "metadata": {
    "execution": {
     "iopub.execute_input": "2023-08-30T12:27:15.240581Z",
     "iopub.status.busy": "2023-08-30T12:27:15.240131Z",
     "iopub.status.idle": "2023-08-30T12:27:15.248220Z",
     "shell.execute_reply": "2023-08-30T12:27:15.246987Z"
    },
    "papermill": {
     "duration": 0.024385,
     "end_time": "2023-08-30T12:27:15.250694",
     "exception": false,
     "start_time": "2023-08-30T12:27:15.226309",
     "status": "completed"
    },
    "tags": []
   },
   "outputs": [
    {
     "data": {
      "text/plain": [
       "(55315, 2)"
      ]
     },
     "execution_count": 6,
     "metadata": {},
     "output_type": "execute_result"
    }
   ],
   "source": [
    "sample.head()\n",
    "sample.shape"
   ]
  },
  {
   "cell_type": "code",
   "execution_count": 7,
   "id": "f44db959",
   "metadata": {
    "execution": {
     "iopub.execute_input": "2023-08-30T12:27:15.277709Z",
     "iopub.status.busy": "2023-08-30T12:27:15.277303Z",
     "iopub.status.idle": "2023-08-30T12:27:16.103977Z",
     "shell.execute_reply": "2023-08-30T12:27:16.102769Z"
    },
    "papermill": {
     "duration": 0.843618,
     "end_time": "2023-08-30T12:27:16.106993",
     "exception": false,
     "start_time": "2023-08-30T12:27:15.263375",
     "status": "completed"
    },
    "tags": []
   },
   "outputs": [
    {
     "name": "stdout",
     "output_type": "stream",
     "text": [
      "(162758, 5)\n",
      "(55315, 4)\n",
      "(55315, 2)\n",
      "(143258, 14)\n",
      "<class 'pandas.core.frame.DataFrame'>\n",
      "RangeIndex: 162758 entries, 0 to 162757\n",
      "Data columns (total 5 columns):\n",
      " #   Column              Non-Null Count   Dtype \n",
      "---  ------              --------------   ----- \n",
      " 0   movieid             162758 non-null  object\n",
      " 1   reviewerName        162758 non-null  object\n",
      " 2   isFrequentReviewer  162758 non-null  bool  \n",
      " 3   reviewText          156311 non-null  object\n",
      " 4   sentiment           162758 non-null  object\n",
      "dtypes: bool(1), object(4)\n",
      "memory usage: 5.1+ MB\n",
      "<class 'pandas.core.frame.DataFrame'>\n",
      "RangeIndex: 55315 entries, 0 to 55314\n",
      "Data columns (total 4 columns):\n",
      " #   Column        Non-Null Count  Dtype \n",
      "---  ------        --------------  ----- \n",
      " 0   movieid       55315 non-null  object\n",
      " 1   reviewerName  55315 non-null  object\n",
      " 2   isTopCritic   55315 non-null  bool  \n",
      " 3   reviewText    52805 non-null  object\n",
      "dtypes: bool(1), object(3)\n",
      "memory usage: 1.3+ MB\n",
      "<class 'pandas.core.frame.DataFrame'>\n",
      "RangeIndex: 55315 entries, 0 to 55314\n",
      "Data columns (total 2 columns):\n",
      " #   Column     Non-Null Count  Dtype \n",
      "---  ------     --------------  ----- \n",
      " 0   id         55315 non-null  int64 \n",
      " 1   sentiment  55315 non-null  object\n",
      "dtypes: int64(1), object(1)\n",
      "memory usage: 864.4+ KB\n",
      "<class 'pandas.core.frame.DataFrame'>\n",
      "RangeIndex: 143258 entries, 0 to 143257\n",
      "Data columns (total 14 columns):\n",
      " #   Column                Non-Null Count   Dtype  \n",
      "---  ------                --------------   -----  \n",
      " 0   movieid               143258 non-null  object \n",
      " 1   title                 143258 non-null  object \n",
      " 2   audienceScore         73248 non-null   float64\n",
      " 3   rating                13991 non-null   object \n",
      " 4   ratingContents        13991 non-null   object \n",
      " 5   releaseDateTheaters   30773 non-null   object \n",
      " 6   releaseDateStreaming  79420 non-null   object \n",
      " 7   runtimeMinutes        129431 non-null  float64\n",
      " 8   genre                 132175 non-null  object \n",
      " 9   originalLanguage      129400 non-null  object \n",
      " 10  director              143258 non-null  object \n",
      " 11  boxOffice             14743 non-null   object \n",
      " 12  distributor           23005 non-null   object \n",
      " 13  soundType             15917 non-null   object \n",
      "dtypes: float64(2), object(12)\n",
      "memory usage: 15.3+ MB\n"
     ]
    }
   ],
   "source": [
    "#finding the no of entries in the csv file\n",
    "print(training.shape)\n",
    "print(testing.shape)\n",
    "print(sample.shape)\n",
    "print(main.shape)\n",
    "#gathering information of all csv files \n",
    "training.info()\n",
    "testing.info()\n",
    "sample.info()\n",
    "main.info()"
   ]
  },
  {
   "cell_type": "code",
   "execution_count": 8,
   "id": "1f9249ef",
   "metadata": {
    "execution": {
     "iopub.execute_input": "2023-08-30T12:27:16.134947Z",
     "iopub.status.busy": "2023-08-30T12:27:16.134520Z",
     "iopub.status.idle": "2023-08-30T12:27:17.096448Z",
     "shell.execute_reply": "2023-08-30T12:27:17.095133Z"
    },
    "papermill": {
     "duration": 0.979113,
     "end_time": "2023-08-30T12:27:17.099227",
     "exception": false,
     "start_time": "2023-08-30T12:27:16.120114",
     "status": "completed"
    },
    "tags": []
   },
   "outputs": [
    {
     "name": "stdout",
     "output_type": "stream",
     "text": [
      "movieid                      0\n",
      "title                        0\n",
      "audienceScore            70010\n",
      "rating                  129267\n",
      "ratingContents          129267\n",
      "releaseDateTheaters     112485\n",
      "releaseDateStreaming     63838\n",
      "runtimeMinutes           13827\n",
      "genre                    11083\n",
      "originalLanguage         13858\n",
      "director                     0\n",
      "boxOffice               128515\n",
      "distributor             120253\n",
      "soundType               127341\n",
      "dtype: int64\n"
     ]
    },
    {
     "data": {
      "image/png": "[encoded data removed]",
      "text/plain": [
       "<Figure size 640x480 with 1 Axes>"
      ]
     },
     "metadata": {},
     "output_type": "display_data"
    }
   ],
   "source": [
    "null_data = main.isnull().sum()\n",
    "# Print the columns with null values\n",
    "print(null_data)\n",
    "pl.bar(null_data.index, null_data.values)\n",
    "pl.xlabel('Features')\n",
    "pl.ylabel('Sum of Null Values')\n",
    "pl.title('Total Null Values ')\n",
    "pl.xticks(rotation='vertical') #rotates the x-axis labels vertically for better readability\n",
    "pl.tight_layout() #rotates the x-axis labels vertically for better readability\n",
    "pl.show()"
   ]
  },
  {
   "cell_type": "markdown",
   "id": "a2802fdc",
   "metadata": {
    "papermill": {
     "duration": 0.013745,
     "end_time": "2023-08-30T12:27:17.126940",
     "exception": false,
     "start_time": "2023-08-30T12:27:17.113195",
     "status": "completed"
    },
    "tags": []
   },
   "source": [
    "***In the dataset, movie_id is given for all data . Also, I have found that soundType,boxoffice,distributor,releaseDateTheaters,rating,ratingContents etc columns have very less non-null values.*** *Therefore, I prefer not to merge the main and training file*"
   ]
  },
  {
   "cell_type": "code",
   "execution_count": 9,
   "id": "58a0013b",
   "metadata": {
    "execution": {
     "iopub.execute_input": "2023-08-30T12:27:17.157668Z",
     "iopub.status.busy": "2023-08-30T12:27:17.157242Z",
     "iopub.status.idle": "2023-08-30T12:27:17.195651Z",
     "shell.execute_reply": "2023-08-30T12:27:17.194456Z"
    },
    "papermill": {
     "duration": 0.056845,
     "end_time": "2023-08-30T12:27:17.198359",
     "exception": false,
     "start_time": "2023-08-30T12:27:17.141514",
     "status": "completed"
    },
    "tags": []
   },
   "outputs": [
    {
     "name": "stdout",
     "output_type": "stream",
     "text": [
      "NEGATIVE    55315\n",
      "Name: sentiment, dtype: int64\n",
      "POSITIVE    108761\n",
      "NEGATIVE     53997\n",
      "Name: sentiment, dtype: int64\n"
     ]
    }
   ],
   "source": [
    "#sentiment analysis in the data\n",
    "print(sample['sentiment'].value_counts())\n",
    "print(training['sentiment'].value_counts())"
   ]
  },
  {
   "cell_type": "markdown",
   "id": "d08431b0",
   "metadata": {
    "papermill": {
     "duration": 0.013427,
     "end_time": "2023-08-30T12:27:17.225605",
     "exception": false,
     "start_time": "2023-08-30T12:27:17.212178",
     "status": "completed"
    },
    "tags": []
   },
   "source": [
    "> **DATA PREPROCESSING**"
   ]
  },
  {
   "cell_type": "code",
   "execution_count": 10,
   "id": "0d48aeba",
   "metadata": {
    "execution": {
     "iopub.execute_input": "2023-08-30T12:27:17.255612Z",
     "iopub.status.busy": "2023-08-30T12:27:17.254507Z",
     "iopub.status.idle": "2023-08-30T12:27:17.336585Z",
     "shell.execute_reply": "2023-08-30T12:27:17.335491Z"
    },
    "papermill": {
     "duration": 0.099919,
     "end_time": "2023-08-30T12:27:17.339370",
     "exception": false,
     "start_time": "2023-08-30T12:27:17.239451",
     "status": "completed"
    },
    "tags": []
   },
   "outputs": [],
   "source": [
    "# Drop rows with null values in 'reviewText' column for the training dataset\n",
    "training = training.dropna(subset=['reviewText']) #remove rows with missing values in the 'reviewText' column"
   ]
  },
  {
   "cell_type": "code",
   "execution_count": 11,
   "id": "f8d26781",
   "metadata": {
    "execution": {
     "iopub.execute_input": "2023-08-30T12:27:17.369892Z",
     "iopub.status.busy": "2023-08-30T12:27:17.369500Z",
     "iopub.status.idle": "2023-08-30T12:27:17.374654Z",
     "shell.execute_reply": "2023-08-30T12:27:17.373341Z"
    },
    "papermill": {
     "duration": 0.023957,
     "end_time": "2023-08-30T12:27:17.377199",
     "exception": false,
     "start_time": "2023-08-30T12:27:17.353242",
     "status": "completed"
    },
    "tags": []
   },
   "outputs": [],
   "source": [
    "# from sklearn.model_selection import train_test_split\n",
    "# @Separate the input features (X) and the target variable (y) from the 'traininG\n",
    "# X = training.drop('sentiment', axis=1) \n",
    "# y = training['sentiment'] \n",
    "# # # Split the dataset into training and validation sets\n",
    "# X_train, X_valid, y_train, y_valid = train_test_split(X, y,test_size=0.2,random_state=42)\n",
    "# print((y_valid.value_counts())/len(y_valid)) #to be calculating the distribution of sentiment classes in the validation set.\n"
   ]
  },
  {
   "cell_type": "code",
   "execution_count": 12,
   "id": "e599284b",
   "metadata": {
    "execution": {
     "iopub.execute_input": "2023-08-30T12:27:17.407538Z",
     "iopub.status.busy": "2023-08-30T12:27:17.407124Z",
     "iopub.status.idle": "2023-08-30T12:27:17.411716Z",
     "shell.execute_reply": "2023-08-30T12:27:17.410618Z"
    },
    "papermill": {
     "duration": 0.02296,
     "end_time": "2023-08-30T12:27:17.414148",
     "exception": false,
     "start_time": "2023-08-30T12:27:17.391188",
     "status": "completed"
    },
    "tags": []
   },
   "outputs": [],
   "source": [
    "# from sklearn.feature_extraction.text import CountVectorizer\n",
    "# count_vectorizer = CountVectorizer() \n",
    "##CountVectorizer is used to convert a collection of text documents to a matrix of token counts\n",
    "# vectorised_text_train = count_vectorizer.fit_transform(X_train['reviewText'])\n",
    "## Each row of the matrix represents a document (text), and each column represents a unique word (token)\n",
    "# print(vectorised_text_train)"
   ]
  },
  {
   "cell_type": "markdown",
   "id": "fef1aaae",
   "metadata": {
    "papermill": {
     "duration": 0.01335,
     "end_time": "2023-08-30T12:27:17.441345",
     "exception": false,
     "start_time": "2023-08-30T12:27:17.427995",
     "status": "completed"
    },
    "tags": []
   },
   "source": [
    "> **MILESTONE 2 : BASELINE MODEL**"
   ]
  },
  {
   "cell_type": "code",
   "execution_count": 13,
   "id": "45b6d8dd",
   "metadata": {
    "execution": {
     "iopub.execute_input": "2023-08-30T12:27:17.470874Z",
     "iopub.status.busy": "2023-08-30T12:27:17.470435Z",
     "iopub.status.idle": "2023-08-30T12:27:17.475105Z",
     "shell.execute_reply": "2023-08-30T12:27:17.474064Z"
    },
    "papermill": {
     "duration": 0.022244,
     "end_time": "2023-08-30T12:27:17.477430",
     "exception": false,
     "start_time": "2023-08-30T12:27:17.455186",
     "status": "completed"
    },
    "tags": []
   },
   "outputs": [],
   "source": [
    "# from sklearn.dummy import DummyClassifier\n",
    "# X = training[\"movieid\"]\n",
    "# X = X.to_numpy() #The .to_numpy() method converts the extracted 'movieid' column to a NumPy array.\n",
    "# y = training[\"sentiment\"]\n",
    "# dummy_clf = DummyClassifier(strategy=\"most_frequent\")\n",
    "# dummy_clf.fit(X,y)"
   ]
  },
  {
   "cell_type": "code",
   "execution_count": 14,
   "id": "04d0e52b",
   "metadata": {
    "execution": {
     "iopub.execute_input": "2023-08-30T12:27:17.507854Z",
     "iopub.status.busy": "2023-08-30T12:27:17.507425Z",
     "iopub.status.idle": "2023-08-30T12:27:17.511482Z",
     "shell.execute_reply": "2023-08-30T12:27:17.510304Z"
    },
    "papermill": {
     "duration": 0.02212,
     "end_time": "2023-08-30T12:27:17.513990",
     "exception": false,
     "start_time": "2023-08-30T12:27:17.491870",
     "status": "completed"
    },
    "tags": []
   },
   "outputs": [],
   "source": [
    "# DummyClassifier(strategy='most_frequent')\n",
    "# dummy_clf.predict(X)\n"
   ]
  },
  {
   "cell_type": "markdown",
   "id": "31b464e0",
   "metadata": {
    "papermill": {
     "duration": 0.01372,
     "end_time": "2023-08-30T12:27:17.542326",
     "exception": false,
     "start_time": "2023-08-30T12:27:17.528606",
     "status": "completed"
    },
    "tags": []
   },
   "source": [
    "> **LOGISTIC REGRESSION using cross validation**"
   ]
  },
  {
   "cell_type": "code",
   "execution_count": 15,
   "id": "07928525",
   "metadata": {
    "execution": {
     "iopub.execute_input": "2023-08-30T12:27:17.572203Z",
     "iopub.status.busy": "2023-08-30T12:27:17.571773Z",
     "iopub.status.idle": "2023-08-30T12:27:17.577302Z",
     "shell.execute_reply": "2023-08-30T12:27:17.576047Z"
    },
    "papermill": {
     "duration": 0.023194,
     "end_time": "2023-08-30T12:27:17.579728",
     "exception": false,
     "start_time": "2023-08-30T12:27:17.556534",
     "status": "completed"
    },
    "tags": []
   },
   "outputs": [],
   "source": [
    "# from sklearn.linear_model import LogisticRegression\n",
    "# from sklearn.metrics import accuracy_score\n",
    "# from sklearn.model_selection import cross_val_score\n",
    "# # Logistic Regression model\n",
    "# model = LogisticRegression( solver='lbfgs', max_iter=1000, class_weight='balanced')\n",
    "# model.fit(vectorised_text_train, y_train)\n",
    "# cross_val_scores = cross_val_score(model,vectorised_text_train , y_train, cv=6)\n",
    "## 6-fold cross-validation and stores the scores in the cross_val_scores variable.\n",
    "#vectorised_text_test = count_vectorizer.transform(testing['reviewText'])\n",
    "# # Use the trained model to make predictions on the test data\n",
    "# y_pred = model.predict(vectorised_text_test)\n",
    "# print(accuracy_score(y_valid[0:2000], y_pred[0:2000]))\n",
    "# print(cross_val_score) #This line prints the array of accuracy scores obtained from the cross-validation."
   ]
  },
  {
   "cell_type": "markdown",
   "id": "c3a39452",
   "metadata": {
    "papermill": {
     "duration": 0.013473,
     "end_time": "2023-08-30T12:27:17.607153",
     "exception": false,
     "start_time": "2023-08-30T12:27:17.593680",
     "status": "completed"
    },
    "tags": []
   },
   "source": [
    "> **RANDOM FOREST CLASSIFIER**"
   ]
  },
  {
   "cell_type": "code",
   "execution_count": 16,
   "id": "c396567e",
   "metadata": {
    "execution": {
     "iopub.execute_input": "2023-08-30T12:27:17.636745Z",
     "iopub.status.busy": "2023-08-30T12:27:17.636339Z",
     "iopub.status.idle": "2023-08-30T12:27:17.640356Z",
     "shell.execute_reply": "2023-08-30T12:27:17.639448Z"
    },
    "papermill": {
     "duration": 0.021532,
     "end_time": "2023-08-30T12:27:17.642582",
     "exception": false,
     "start_time": "2023-08-30T12:27:17.621050",
     "status": "completed"
    },
    "tags": []
   },
   "outputs": [],
   "source": [
    "# from sklearn.ensemble import RandomForestClassifier\n",
    "# rf_classifier = RandomForestClassifier(n_estimators=100, random_state=42)\n",
    "# rf_classifier.fit(vectorised_text_train[:4000], y_train[:4000])\n",
    "# y_pred = rf_classifier.predict(vectorised_text_test)\n",
    "# print(accuracy_score(y_valid, y_pred))\n",
    "# #print(classification_report(y_test, y_pred))"
   ]
  },
  {
   "cell_type": "markdown",
   "id": "95dc56a7",
   "metadata": {
    "papermill": {
     "duration": 0.013264,
     "end_time": "2023-08-30T12:27:17.669624",
     "exception": false,
     "start_time": "2023-08-30T12:27:17.656360",
     "status": "completed"
    },
    "tags": []
   },
   "source": [
    "> **TUNE THE HYPERPARAMETERS OF MODEL**"
   ]
  },
  {
   "cell_type": "code",
   "execution_count": 17,
   "id": "31621be3",
   "metadata": {
    "execution": {
     "iopub.execute_input": "2023-08-30T12:27:17.699252Z",
     "iopub.status.busy": "2023-08-30T12:27:17.698764Z",
     "iopub.status.idle": "2023-08-30T12:27:17.704933Z",
     "shell.execute_reply": "2023-08-30T12:27:17.703661Z"
    },
    "papermill": {
     "duration": 0.023879,
     "end_time": "2023-08-30T12:27:17.707402",
     "exception": false,
     "start_time": "2023-08-30T12:27:17.683523",
     "status": "completed"
    },
    "tags": []
   },
   "outputs": [],
   "source": [
    "# from sklearn.model_selection import GridSearchCV\n",
    "# from sklearn.metrics import make_scorer, accuracy_score\n",
    "# from sklearn.ensemble import RandomForestClassifier\n",
    "\n",
    "# # Define a reduced parameter grid\n",
    "# param_grid = {\n",
    "#     'n_estimators': [100, 200],\n",
    "#     'max_depth': [None, 10],\n",
    "#     'min_samples_split': [2, 5],\n",
    "#     'min_samples_leaf': [1, 2],\n",
    "# }\n",
    "\n",
    "# # Create a scoring function (accuracy in this case)\n",
    "# scorer = make_scorer(accuracy_score)\n",
    "\n",
    "# # Create the GridSearchCV object\n",
    "# grid_search = GridSearchCV(\n",
    "#     estimator=RandomForestClassifier(random_state=42),\n",
    "#     param_grid=param_grid,\n",
    "#     scoring=scorer,\n",
    "#     cv=5,\n",
    "#     verbose=1,\n",
    "#     n_jobs=-1 \n",
    "# )\n",
    "\n",
    "# # Fit the GridSearchCV object to a subset of your training data\n",
    "# grid_search.fit(vectorised_text_train[:2000], y_train[:2000])\n",
    "\n",
    "# #  retrieve the best parameters and the corresponding best cross-validated score.\n",
    "# best_params = grid_search.best_params_\n",
    "# best_score = grid_search.best_score_\n",
    "\n",
    "# print(\"Best Parameters:\", best_params)\n",
    "# print(\"Best Score:\", best_score)\n",
    "# best_rf_classifier = grid_search.best_estimator_\n",
    "# y_pred = best_rf_classifier.predict(vectorised_text_test)\n",
    "\n"
   ]
  },
  {
   "cell_type": "markdown",
   "id": "1f2ece83",
   "metadata": {
    "papermill": {
     "duration": 0.01349,
     "end_time": "2023-08-30T12:27:17.734924",
     "exception": false,
     "start_time": "2023-08-30T12:27:17.721434",
     "status": "completed"
    },
    "tags": []
   },
   "source": [
    "> **MILESTONE 3 :APPLY KNN**"
   ]
  },
  {
   "cell_type": "code",
   "execution_count": 18,
   "id": "5fa2c76b",
   "metadata": {
    "execution": {
     "iopub.execute_input": "2023-08-30T12:27:17.764336Z",
     "iopub.status.busy": "2023-08-30T12:27:17.763901Z",
     "iopub.status.idle": "2023-08-30T12:27:17.768961Z",
     "shell.execute_reply": "2023-08-30T12:27:17.767805Z"
    },
    "papermill": {
     "duration": 0.02258,
     "end_time": "2023-08-30T12:27:17.771419",
     "exception": false,
     "start_time": "2023-08-30T12:27:17.748839",
     "status": "completed"
    },
    "tags": []
   },
   "outputs": [],
   "source": [
    "# from sklearn.neighbors import KNeighborsClassifier\n",
    "# knn = KNeighborsClassifier(n_neighbors=7).fit(vectorised_text_train[:10000], y_train[0:10000])\n",
    "# y_pred = knn.predict(vectorised_text_test[:10000])\n",
    "# print(accuracy_score(y_valid[:10000], y_pred[:10000]))"
   ]
  },
  {
   "cell_type": "markdown",
   "id": "6d80c4a2",
   "metadata": {
    "papermill": {
     "duration": 0.013473,
     "end_time": "2023-08-30T12:27:17.798854",
     "exception": false,
     "start_time": "2023-08-30T12:27:17.785381",
     "status": "completed"
    },
    "tags": []
   },
   "source": [
    "> **APPLY SVM MODEL**"
   ]
  },
  {
   "cell_type": "code",
   "execution_count": 19,
   "id": "e2f8a670",
   "metadata": {
    "execution": {
     "iopub.execute_input": "2023-08-30T12:27:17.828552Z",
     "iopub.status.busy": "2023-08-30T12:27:17.828124Z",
     "iopub.status.idle": "2023-08-30T12:27:17.832174Z",
     "shell.execute_reply": "2023-08-30T12:27:17.831359Z"
    },
    "papermill": {
     "duration": 0.021479,
     "end_time": "2023-08-30T12:27:17.834295",
     "exception": false,
     "start_time": "2023-08-30T12:27:17.812816",
     "status": "completed"
    },
    "tags": []
   },
   "outputs": [],
   "source": [
    "# from sklearn.svm import SVC\n",
    "# svm = SVC(kernel='rbf', C=10.0).fit(vectorised_text_train[:5000], y_train[:5000])\n",
    "# y_pred = svm.predict(vectorised_text_test[:5000])\n",
    "# print(accuracy_score(y_valid[:5000], y_pred[:5000]))"
   ]
  },
  {
   "cell_type": "markdown",
   "id": "65e8928b",
   "metadata": {
    "papermill": {
     "duration": 0.013382,
     "end_time": "2023-08-30T12:27:17.861546",
     "exception": false,
     "start_time": "2023-08-30T12:27:17.848164",
     "status": "completed"
    },
    "tags": []
   },
   "source": [
    "**We can see that count vectoriser doesnt give fair accuracy so I m using Tfidvectorizer**"
   ]
  },
  {
   "cell_type": "code",
   "execution_count": 20,
   "id": "4a9f0634",
   "metadata": {
    "execution": {
     "iopub.execute_input": "2023-08-30T12:27:17.891344Z",
     "iopub.status.busy": "2023-08-30T12:27:17.890576Z",
     "iopub.status.idle": "2023-08-30T12:27:26.084872Z",
     "shell.execute_reply": "2023-08-30T12:27:26.083196Z"
    },
    "papermill": {
     "duration": 8.213096,
     "end_time": "2023-08-30T12:27:26.088386",
     "exception": false,
     "start_time": "2023-08-30T12:27:17.875290",
     "status": "completed"
    },
    "tags": []
   },
   "outputs": [],
   "source": [
    "from sklearn.model_selection import train_test_split\n",
    "from sklearn.feature_extraction.text import TfidfVectorizer\n",
    "\n",
    "X = training['reviewText'].values.astype('U') \n",
    "#.astype('U') is used to ensure that all the values in the NumPy array are interpreted and treated as Unicode strings.\n",
    "y = training['sentiment']\n",
    "X_train, X_test, y_train, y_test = train_test_split(X, y, test_size=0.2, random_state=42)\n",
    "\n",
    "tfidf_vectorizer = TfidfVectorizer(max_features=10000)\n",
    "X_tfidf_train = tfidf_vectorizer.fit_transform(X_train)\n",
    "X_tfidf_test = tfidf_vectorizer.transform(X_test)"
   ]
  },
  {
   "cell_type": "code",
   "execution_count": 21,
   "id": "cf411234",
   "metadata": {
    "execution": {
     "iopub.execute_input": "2023-08-30T12:27:26.118002Z",
     "iopub.status.busy": "2023-08-30T12:27:26.117567Z",
     "iopub.status.idle": "2023-08-30T12:27:32.885590Z",
     "shell.execute_reply": "2023-08-30T12:27:32.884402Z"
    },
    "papermill": {
     "duration": 6.786158,
     "end_time": "2023-08-30T12:27:32.888442",
     "exception": false,
     "start_time": "2023-08-30T12:27:26.102284",
     "status": "completed"
    },
    "tags": []
   },
   "outputs": [
    {
     "name": "stdout",
     "output_type": "stream",
     "text": [
      "0.803921568627451\n"
     ]
    }
   ],
   "source": [
    "from sklearn.linear_model import LogisticRegression\n",
    "from sklearn.metrics import accuracy_score\n",
    "model = LogisticRegression(solver='lbfgs', max_iter=200)\n",
    "model.fit(X_tfidf_train, y_train)\n",
    "y_pred = model.predict(X_tfidf_test)\n",
    "print(accuracy_score(y_test, y_pred))"
   ]
  },
  {
   "cell_type": "markdown",
   "id": "9c846b08",
   "metadata": {
    "papermill": {
     "duration": 0.013802,
     "end_time": "2023-08-30T12:27:32.916858",
     "exception": false,
     "start_time": "2023-08-30T12:27:32.903056",
     "status": "completed"
    },
    "tags": []
   },
   "source": [
    "*Applying logistic regression in new  processed data*"
   ]
  },
  {
   "cell_type": "code",
   "execution_count": 22,
   "id": "a98ce36e",
   "metadata": {
    "execution": {
     "iopub.execute_input": "2023-08-30T12:27:32.946875Z",
     "iopub.status.busy": "2023-08-30T12:27:32.946489Z",
     "iopub.status.idle": "2023-08-30T12:27:35.396126Z",
     "shell.execute_reply": "2023-08-30T12:27:35.394935Z"
    },
    "papermill": {
     "duration": 2.46816,
     "end_time": "2023-08-30T12:27:35.399040",
     "exception": false,
     "start_time": "2023-08-30T12:27:32.930880",
     "status": "completed"
    },
    "tags": []
   },
   "outputs": [],
   "source": [
    "x = testing['reviewText'].values.astype('U') \n",
    "X_tfidf = tfidf_vectorizer.transform(x)\n",
    "submissions = pd.DataFrame(model.predict(X_tfidf), columns=['sentiment'])\n",
    "submissions.index.name = 'id'\n",
    "submissions.to_csv(\"submission.csv\", encoding='utf-8')\n",
    "output = pd.read_csv(\"submission.csv\")"
   ]
  },
  {
   "cell_type": "markdown",
   "id": "68184ebf",
   "metadata": {
    "papermill": {
     "duration": 0.013608,
     "end_time": "2023-08-30T12:27:35.426758",
     "exception": false,
     "start_time": "2023-08-30T12:27:35.413150",
     "status": "completed"
    },
    "tags": []
   },
   "source": [
    "As it is giving the best accuracy compared to every other model . It is our main model "
   ]
  },
  {
   "cell_type": "markdown",
   "id": "e2338663",
   "metadata": {
    "papermill": {
     "duration": 0.0135,
     "end_time": "2023-08-30T12:27:35.454409",
     "exception": false,
     "start_time": "2023-08-30T12:27:35.440909",
     "status": "completed"
    },
    "tags": []
   },
   "source": [
    "*Applying KNN in new processed data*"
   ]
  },
  {
   "cell_type": "code",
   "execution_count": 23,
   "id": "3d9d02f1",
   "metadata": {
    "execution": {
     "iopub.execute_input": "2023-08-30T12:27:35.484109Z",
     "iopub.status.busy": "2023-08-30T12:27:35.483696Z",
     "iopub.status.idle": "2023-08-30T12:27:35.488599Z",
     "shell.execute_reply": "2023-08-30T12:27:35.487461Z"
    },
    "papermill": {
     "duration": 0.022697,
     "end_time": "2023-08-30T12:27:35.491075",
     "exception": false,
     "start_time": "2023-08-30T12:27:35.468378",
     "status": "completed"
    },
    "tags": []
   },
   "outputs": [],
   "source": [
    "# from sklearn.neighbors import KNeighborsClassifier\n",
    "# knn = KNeighborsClassifier(n_neighbors=7).fit(X_tfidf_train[:10000], y_train[0:10000])\n",
    "# y_pred = knn.predict(X_tfidf_test[:10000])\n",
    "#print(accuracy_score(y_test[:10000], y_pred[:10000]))"
   ]
  },
  {
   "cell_type": "markdown",
   "id": "3e4084e7",
   "metadata": {
    "papermill": {
     "duration": 0.013529,
     "end_time": "2023-08-30T12:27:35.519034",
     "exception": false,
     "start_time": "2023-08-30T12:27:35.505505",
     "status": "completed"
    },
    "tags": []
   },
   "source": [
    "*Applying SVM in new processed data*"
   ]
  },
  {
   "cell_type": "code",
   "execution_count": 24,
   "id": "742a40fe",
   "metadata": {
    "execution": {
     "iopub.execute_input": "2023-08-30T12:27:35.550483Z",
     "iopub.status.busy": "2023-08-30T12:27:35.549755Z",
     "iopub.status.idle": "2023-08-30T12:27:35.553948Z",
     "shell.execute_reply": "2023-08-30T12:27:35.553035Z"
    },
    "papermill": {
     "duration": 0.02335,
     "end_time": "2023-08-30T12:27:35.556342",
     "exception": false,
     "start_time": "2023-08-30T12:27:35.532992",
     "status": "completed"
    },
    "tags": []
   },
   "outputs": [],
   "source": [
    "# from sklearn.svm import SVC\n",
    "# svm = SVC(kernel='rbf',C=10).fit(X_tfidf_train[:10000], y_train[:10000])\n",
    "# y_pred = svm.predict(X_tfidf_test[:10000])\n",
    "# print(accuracy_score(y_test[:10000], y_pred[:10000]))"
   ]
  },
  {
   "cell_type": "code",
   "execution_count": 25,
   "id": "a175fdee",
   "metadata": {
    "execution": {
     "iopub.execute_input": "2023-08-30T12:27:35.587676Z",
     "iopub.status.busy": "2023-08-30T12:27:35.586231Z",
     "iopub.status.idle": "2023-08-30T12:27:35.591277Z",
     "shell.execute_reply": "2023-08-30T12:27:35.590436Z"
    },
    "papermill": {
     "duration": 0.022804,
     "end_time": "2023-08-30T12:27:35.593490",
     "exception": false,
     "start_time": "2023-08-30T12:27:35.570686",
     "status": "completed"
    },
    "tags": []
   },
   "outputs": [],
   "source": [
    "# X1 = testing['reviewText'].values.astype('U')\n",
    "# X_1_tfidf = tfidf_vectorizer.transform(X1)\n",
    "# sub = pd.DataFrame(svm.predict(X_1_tfidf), columns=['sentiment'])\n",
    "# sub.index.name = 'id'\n",
    "# sub.to_csv(\"submission.csv\", encoding='utf-8')\n",
    "# output = pd.read_csv(\"submission.csv\")\n",
    "# print(output)"
   ]
  }
 ],
 "metadata": {
  "kernelspec": {
   "display_name": "Python 3",
   "language": "python",
   "name": "python3"
  },
  "language_info": {
   "codemirror_mode": {
    "name": "ipython",
    "version": 3
   },
   "file_extension": ".py",
   "mimetype": "text/x-python",
   "name": "python",
   "nbconvert_exporter": "python",
   "pygments_lexer": "ipython3",
   "version": "3.10.10"
  },
  "papermill": {
   "default_parameters": {},
   "duration": 38.551328,
   "end_time": "2023-08-30T12:27:36.731371",
   "environment_variables": {},
   "exception": null,
   "input_path": "__notebook__.ipynb",
   "output_path": "__notebook__.ipynb",
   "parameters": {},
   "start_time": "2023-08-30T12:26:58.180043",
   "version": "2.4.0"
  }
 },
 "nbformat": 4,
 "nbformat_minor": 5
}
